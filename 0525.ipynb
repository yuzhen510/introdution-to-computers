{
  "nbformat": 4,
  "nbformat_minor": 0,
  "metadata": {
    "colab": {
      "name": "0525.ipynb",
      "provenance": [],
      "authorship_tag": "ABX9TyOJZBsYeiq5hWsDORJMFyul",
      "include_colab_link": true
    },
    "kernelspec": {
      "name": "python3",
      "display_name": "Python 3"
    },
    "language_info": {
      "name": "python"
    }
  },
  "cells": [
    {
      "cell_type": "markdown",
      "metadata": {
        "id": "view-in-github",
        "colab_type": "text"
      },
      "source": [
        "<a href=\"https://colab.research.google.com/github/yuzhen510/introdution-to-computers/blob/main/0525.ipynb\" target=\"_parent\"><img src=\"https://colab.research.google.com/assets/colab-badge.svg\" alt=\"Open In Colab\"/></a>"
      ]
    },
    {
      "cell_type": "code",
      "execution_count": 1,
      "metadata": {
        "colab": {
          "base_uri": "https://localhost:8080/"
        },
        "id": "js-i5Ds_kAkU",
        "outputId": "1312ed01-177f-4f1b-b6a2-21613540a687"
      },
      "outputs": [
        {
          "output_type": "stream",
          "name": "stdout",
          "text": [
            "test\n"
          ]
        }
      ],
      "source": [
        "print(\"test\")"
      ]
    },
    {
      "cell_type": "code",
      "source": [
        "sum = 0\n",
        "test = int(input(\"請輸入一個正整數:\"))\n",
        "for n in range(1,test+1):\n",
        "      sum = sum + n\n",
        "print(\"1到\",test,\"的整數和為：\",sum)"
      ],
      "metadata": {
        "colab": {
          "base_uri": "https://localhost:8080/"
        },
        "id": "OBaaWcsckYqc",
        "outputId": "4ebc2954-b6a1-45fc-fa07-0581cdecc796"
      },
      "execution_count": 3,
      "outputs": [
        {
          "output_type": "stream",
          "name": "stdout",
          "text": [
            "請輸入一個正整數:50\n",
            "1到 50 的整數和為： 1275\n"
          ]
        }
      ]
    },
    {
      "cell_type": "code",
      "source": [
        "sum = 0\n",
        "test = int(input(\"請輸入一個正整數:\"))\n",
        "for m in range(1,test+1):\n",
        "      sum = sum + m\n",
        "      print(\"1到\"+str(m)+\"的整數和為：\",sum)"
      ],
      "metadata": {
        "colab": {
          "base_uri": "https://localhost:8080/"
        },
        "id": "UNN-zVBBmVB4",
        "outputId": "4f892b81-5eab-4d01-c2ed-c7cf067b45e0"
      },
      "execution_count": 8,
      "outputs": [
        {
          "output_type": "stream",
          "name": "stdout",
          "text": [
            "請輸入一個正整數:50\n",
            "1到1的整數和為： 1\n",
            "1到2的整數和為： 3\n",
            "1到3的整數和為： 6\n",
            "1到4的整數和為： 10\n",
            "1到5的整數和為： 15\n",
            "1到6的整數和為： 21\n",
            "1到7的整數和為： 28\n",
            "1到8的整數和為： 36\n",
            "1到9的整數和為： 45\n",
            "1到10的整數和為： 55\n",
            "1到11的整數和為： 66\n",
            "1到12的整數和為： 78\n",
            "1到13的整數和為： 91\n",
            "1到14的整數和為： 105\n",
            "1到15的整數和為： 120\n",
            "1到16的整數和為： 136\n",
            "1到17的整數和為： 153\n",
            "1到18的整數和為： 171\n",
            "1到19的整數和為： 190\n",
            "1到20的整數和為： 210\n",
            "1到21的整數和為： 231\n",
            "1到22的整數和為： 253\n",
            "1到23的整數和為： 276\n",
            "1到24的整數和為： 300\n",
            "1到25的整數和為： 325\n",
            "1到26的整數和為： 351\n",
            "1到27的整數和為： 378\n",
            "1到28的整數和為： 406\n",
            "1到29的整數和為： 435\n",
            "1到30的整數和為： 465\n",
            "1到31的整數和為： 496\n",
            "1到32的整數和為： 528\n",
            "1到33的整數和為： 561\n",
            "1到34的整數和為： 595\n",
            "1到35的整數和為： 630\n",
            "1到36的整數和為： 666\n",
            "1到37的整數和為： 703\n",
            "1到38的整數和為： 741\n",
            "1到39的整數和為： 780\n",
            "1到40的整數和為： 820\n",
            "1到41的整數和為： 861\n",
            "1到42的整數和為： 903\n",
            "1到43的整數和為： 946\n",
            "1到44的整數和為： 990\n",
            "1到45的整數和為： 1035\n",
            "1到46的整數和為： 1081\n",
            "1到47的整數和為： 1128\n",
            "1到48的整數和為： 1176\n",
            "1到49的整數和為： 1225\n",
            "1到50的整數和為： 1275\n"
          ]
        }
      ]
    },
    {
      "cell_type": "code",
      "source": [
        "for j in range(1,5):\n",
        "    print(j)\n",
        "    for i in range(1,3):\n",
        "        k = i*j\n",
        "        print(j,\"*\",i,\"=\",k)"
      ],
      "metadata": {
        "colab": {
          "base_uri": "https://localhost:8080/"
        },
        "id": "LSW4gd9do9Eq",
        "outputId": "47076537-dbc5-4bc4-f18d-0c2995b15b28"
      },
      "execution_count": 12,
      "outputs": [
        {
          "output_type": "stream",
          "name": "stdout",
          "text": [
            "1\n",
            "1 * 1 = 1\n",
            "1 * 2 = 2\n",
            "2\n",
            "2 * 1 = 2\n",
            "2 * 2 = 4\n",
            "3\n",
            "3 * 1 = 3\n",
            "3 * 2 = 6\n",
            "4\n",
            "4 * 1 = 4\n",
            "4 * 2 = 8\n"
          ]
        }
      ]
    },
    {
      "cell_type": "code",
      "source": [
        "for j in range(1,6):\n",
        "    print(j)\n",
        "    for i in range(1,3):\n",
        "        k = i*j\n",
        "        print(j,\"*\",i,\"=\",k)"
      ],
      "metadata": {
        "colab": {
          "base_uri": "https://localhost:8080/"
        },
        "id": "OhjwMN4zo_Du",
        "outputId": "525299a4-c2c0-45f2-c8bc-8f9931673248"
      },
      "execution_count": 13,
      "outputs": [
        {
          "output_type": "stream",
          "name": "stdout",
          "text": [
            "1\n",
            "1 * 1 = 1\n",
            "1 * 2 = 2\n",
            "2\n",
            "2 * 1 = 2\n",
            "2 * 2 = 4\n",
            "3\n",
            "3 * 1 = 3\n",
            "3 * 2 = 6\n",
            "4\n",
            "4 * 1 = 4\n",
            "4 * 2 = 8\n",
            "5\n",
            "5 * 1 = 5\n",
            "5 * 2 = 10\n"
          ]
        }
      ]
    },
    {
      "cell_type": "code",
      "source": [
        "for i in range(1,5):\n",
        "    if (i==4):\n",
        "        break\n",
        "    print(i,end=\"\")     "
      ],
      "metadata": {
        "colab": {
          "base_uri": "https://localhost:8080/"
        },
        "id": "LW9C07K9pu3z",
        "outputId": "97f47ac6-e518-400f-8322-618d03ac4630"
      },
      "execution_count": 11,
      "outputs": [
        {
          "output_type": "stream",
          "name": "stdout",
          "text": [
            "123"
          ]
        }
      ]
    },
    {
      "cell_type": "code",
      "source": [
        "count = 0\n",
        "for string in \"hello!\":\n",
        "    count+=1\n",
        "    if string == \"o\":\n",
        "        break\n",
        "    print(string)\n",
        "print(\"迴圈結束\")\n",
        "print(\"迴圈迴圈執行了 %d 次\" %count)"
      ],
      "metadata": {
        "colab": {
          "base_uri": "https://localhost:8080/"
        },
        "id": "eIPNDoYxrW9_",
        "outputId": "e8ff7067-e1b2-4cca-8aa6-346f5bae8fc9"
      },
      "execution_count": 14,
      "outputs": [
        {
          "output_type": "stream",
          "name": "stdout",
          "text": [
            "h\n",
            "e\n",
            "l\n",
            "l\n",
            "迴圈結束\n",
            "迴圈迴圈執行了 5 次\n"
          ]
        }
      ]
    },
    {
      "cell_type": "code",
      "source": [
        "count = 0\n",
        "for string in \"測試看看!\":\n",
        "    count+=1\n",
        "    if string == \"看\":\n",
        "        break\n",
        "    print(string)\n",
        "print(\"迴圈結束\")\n",
        "print(\"迴圈迴圈執行了 %d 次\" %count)"
      ],
      "metadata": {
        "colab": {
          "base_uri": "https://localhost:8080/"
        },
        "id": "EX6DxWvos504",
        "outputId": "36a8fcb1-5ac5-4ac8-f9d6-5d0213dabde0"
      },
      "execution_count": 15,
      "outputs": [
        {
          "output_type": "stream",
          "name": "stdout",
          "text": [
            "測\n",
            "試\n",
            "迴圈結束\n",
            "迴圈迴圈執行了 3 次\n"
          ]
        }
      ]
    },
    {
      "cell_type": "code",
      "source": [
        "for j in range(2,10):\n",
        "    for a in range(3,10):\n",
        "        if (a==j):\n",
        "            print(sep=\"\\n\")\n",
        "    for i in range(1,10):\n",
        "        k = i*j\n",
        "        print(j,\"*\",i,\" =%2d \"%k, end = \"  \")"
      ],
      "metadata": {
        "colab": {
          "base_uri": "https://localhost:8080/"
        },
        "id": "FAwNqppNtRqz",
        "outputId": "e2e53a74-aa4b-4cb4-dd67-55373f3875bb"
      },
      "execution_count": 9,
      "outputs": [
        {
          "output_type": "stream",
          "name": "stdout",
          "text": [
            "2 * 1  = 2   2 * 2  = 4   2 * 3  = 6   2 * 4  = 8   2 * 5  =10   2 * 6  =12   2 * 7  =14   2 * 8  =16   2 * 9  =18   \n",
            "3 * 1  = 3   3 * 2  = 6   3 * 3  = 9   3 * 4  =12   3 * 5  =15   3 * 6  =18   3 * 7  =21   3 * 8  =24   3 * 9  =27   \n",
            "4 * 1  = 4   4 * 2  = 8   4 * 3  =12   4 * 4  =16   4 * 5  =20   4 * 6  =24   4 * 7  =28   4 * 8  =32   4 * 9  =36   \n",
            "5 * 1  = 5   5 * 2  =10   5 * 3  =15   5 * 4  =20   5 * 5  =25   5 * 6  =30   5 * 7  =35   5 * 8  =40   5 * 9  =45   \n",
            "6 * 1  = 6   6 * 2  =12   6 * 3  =18   6 * 4  =24   6 * 5  =30   6 * 6  =36   6 * 7  =42   6 * 8  =48   6 * 9  =54   \n",
            "7 * 1  = 7   7 * 2  =14   7 * 3  =21   7 * 4  =28   7 * 5  =35   7 * 6  =42   7 * 7  =49   7 * 8  =56   7 * 9  =63   \n",
            "8 * 1  = 8   8 * 2  =16   8 * 3  =24   8 * 4  =32   8 * 5  =40   8 * 6  =48   8 * 7  =56   8 * 8  =64   8 * 9  =72   \n",
            "9 * 1  = 9   9 * 2  =18   9 * 3  =27   9 * 4  =36   9 * 5  =45   9 * 6  =54   9 * 7  =63   9 * 8  =72   9 * 9  =81   "
          ]
        }
      ]
    },
    {
      "cell_type": "code",
      "source": [
        "a = int(input(\"請輸入a的值:\"))\n",
        "b = int(input(\"請輸入b的值:\"))\n",
        "for d in range(1,(a*b)+1):\n",
        "  if(d%a==0 and d%b==0):\n",
        "    break\n",
        "print(a,\"和\",b,\"最小公倍數=\",d)"
      ],
      "metadata": {
        "colab": {
          "base_uri": "https://localhost:8080/"
        },
        "id": "FK4lPwMc2nim",
        "outputId": "caa6134d-7916-4f73-a086-3e3867c594e3"
      },
      "execution_count": 17,
      "outputs": [
        {
          "output_type": "stream",
          "name": "stdout",
          "text": [
            "請輸入a的值:4\n",
            "請輸入b的值:6\n",
            "4 和 6 最小公倍數= 12\n"
          ]
        }
      ]
    },
    {
      "cell_type": "code",
      "source": [
        "a = int(input(\"請輸入a的值:\"))\n",
        "b = int(input(\"請輸入b的值:\"))\n",
        "for d in range(1,(a*b)+1):\n",
        "  if(d%a==0 and d%b==0):\n",
        "    break\n",
        "print(a,\"和\",b,\"最小公倍數=\",d)"
      ],
      "metadata": {
        "colab": {
          "base_uri": "https://localhost:8080/"
        },
        "id": "kDYi6fjxHUgH",
        "outputId": "4aec41db-d326-42f6-e949-4a2e9c4d48b2"
      },
      "execution_count": 18,
      "outputs": [
        {
          "output_type": "stream",
          "name": "stdout",
          "text": [
            "請輸入a的值:9\n",
            "請輸入b的值:15\n",
            "9 和 15 最小公倍數= 45\n"
          ]
        }
      ]
    },
    {
      "cell_type": "code",
      "source": [
        "a = int(input(\"請輸入正整數:\"))\n",
        "for n in range(1,a+1):\n",
        "  if n %5 == 0:\n",
        "    continue\n",
        "  print(n,end=\" \")"
      ],
      "metadata": {
        "colab": {
          "base_uri": "https://localhost:8080/"
        },
        "id": "CTfcZ_KhHoK1",
        "outputId": "e0509e7a-6fae-4075-da96-7a3186cc6fc6"
      },
      "execution_count": 19,
      "outputs": [
        {
          "output_type": "stream",
          "name": "stdout",
          "text": [
            "請輸入正整數:12\n",
            "1 2 3 4 6 7 8 9 11 12 "
          ]
        }
      ]
    },
    {
      "cell_type": "code",
      "source": [
        "a = int(input(\"請輸入正整數:\"))\n",
        "for n in range(1,a+1):\n",
        "  if n %5 == 0:\n",
        "    continue\n",
        "  print(n,end=\" \")"
      ],
      "metadata": {
        "colab": {
          "base_uri": "https://localhost:8080/"
        },
        "id": "HwG526pQIIua",
        "outputId": "648af8de-177a-43aa-89b4-bd16a69fb310"
      },
      "execution_count": 20,
      "outputs": [
        {
          "output_type": "stream",
          "name": "stdout",
          "text": [
            "請輸入正整數:21\n",
            "1 2 3 4 6 7 8 9 11 12 13 14 16 17 18 19 21 "
          ]
        }
      ]
    }
  ]
}