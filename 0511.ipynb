{
  "nbformat": 4,
  "nbformat_minor": 0,
  "metadata": {
    "colab": {
      "name": "\b0511.ipynb",
      "provenance": [],
      "authorship_tag": "ABX9TyOssmh7F+YEIqO4hGpt677H",
      "include_colab_link": true
    },
    "kernelspec": {
      "name": "python3",
      "display_name": "Python 3"
    },
    "language_info": {
      "name": "python"
    }
  },
  "cells": [
    {
      "cell_type": "markdown",
      "metadata": {
        "id": "view-in-github",
        "colab_type": "text"
      },
      "source": [
        "<a href=\"https://colab.research.google.com/github/yuzhen510/introdution-to-computers/blob/main/%080511.ipynb\" target=\"_parent\"><img src=\"https://colab.research.google.com/assets/colab-badge.svg\" alt=\"Open In Colab\"/></a>"
      ]
    },
    {
      "cell_type": "code",
      "execution_count": 2,
      "metadata": {
        "colab": {
          "base_uri": "https://localhost:8080/"
        },
        "id": "ag345hCVZEx6",
        "outputId": "229a7847-e4cb-4911-f1e3-b07ebb4a0ca0"
      },
      "outputs": [
        {
          "output_type": "stream",
          "name": "stdout",
          "text": [
            "test\n"
          ]
        }
      ],
      "source": [
        "print(\"test\")"
      ]
    },
    {
      "cell_type": "code",
      "source": [
        "temp = float(input(\"請輸入你的體溫\"))\n",
        "if temp >=37.5:\n",
        "   print(\"體溫過高！\")\n",
        "elif temp >= 37 and temp < 37.4:\n",
        "   print(\"體溫略高！\")\n",
        "elif temp >= 34 and temp < 36.9:\n",
        "   print(\"體溫正常！\")\n",
        "else:\n",
        "   print(\"體溫異常，請重新測量！\")"
      ],
      "metadata": {
        "colab": {
          "base_uri": "https://localhost:8080/"
        },
        "id": "1pel27LkZUDO",
        "outputId": "9ba224d1-5fc4-4b36-e33c-80df5cc6a4b0"
      },
      "execution_count": 1,
      "outputs": [
        {
          "output_type": "stream",
          "name": "stdout",
          "text": [
            "請輸入你的體溫37.5\n",
            "體溫過高！\n"
          ]
        }
      ]
    },
    {
      "cell_type": "code",
      "source": [
        "money = int(input(\"請輸入購物金額：\"))\n",
        "if (money >= 10000):\n",
        "    if(money >= 100000):\n",
        "      print(\"八折\", money * 0.8, end = \"元\\n\")\n",
        "    elif(money >= 50000):\n",
        "      print(\"八五折\", money * 0.85, end = \"元\\n\")\n",
        "    elif(money >= 30000):\n",
        "      print(\"九折\", money * 0.9, end = \"元\\n\")\n",
        "    else:\n",
        "      print(\"九五折\", money * 0.95, end = \"元\\n\")\n",
        "else:\n",
        "    print(\"沒打折\", money, end = \"元\\n\")"
      ],
      "metadata": {
        "colab": {
          "base_uri": "https://localhost:8080/"
        },
        "id": "UGqgF-2myDER",
        "outputId": "593f108a-a308-4eca-af5c-347899175ace"
      },
      "execution_count": 6,
      "outputs": [
        {
          "output_type": "stream",
          "name": "stdout",
          "text": [
            "請輸入購物金額：50000\n",
            "八五折 42500.0元\n"
          ]
        }
      ]
    },
    {
      "cell_type": "code",
      "source": [
        "score = float(input(\"請輸入你的成績：\"))\n",
        "if score >= 90:\n",
        "   print(\"A\")\n",
        "elif score >= 80 and score < 89:\n",
        "   print(\"B\")\n",
        "elif score >= 70 and score < 79:\n",
        "   print(\"C\")\n",
        "elif score >= 60 and score < 69:\n",
        "   print(\"D\")\n",
        "else:\n",
        "   print(\"E\")\n",
        "  "
      ],
      "metadata": {
        "colab": {
          "base_uri": "https://localhost:8080/"
        },
        "id": "pk2aKloPzygn",
        "outputId": "8c1bac26-8a04-499a-f49c-8136015da04e"
      },
      "execution_count": 16,
      "outputs": [
        {
          "output_type": "stream",
          "name": "stdout",
          "text": [
            "請輸入你的成績：90\n",
            "A\n"
          ]
        }
      ]
    },
    {
      "cell_type": "code",
      "source": [
        "score = float(input(\"請輸入你的成績：\"))\n",
        "if score >= 90:\n",
        "   print(\"A\")\n",
        "elif score >= 80 and score < 89:\n",
        "   print(\"B\")\n",
        "elif score >= 70 and score < 79:\n",
        "   print(\"C\")\n",
        "elif score >= 60 and score < 69:\n",
        "   print(\"D\")\n",
        "else:\n",
        "   print(\"E\")"
      ],
      "metadata": {
        "colab": {
          "base_uri": "https://localhost:8080/"
        },
        "id": "mYVuWhIW5r02",
        "outputId": "92c8985e-d38c-485c-8893-8e5b8f3a0a04"
      },
      "execution_count": 17,
      "outputs": [
        {
          "output_type": "stream",
          "name": "stdout",
          "text": [
            "請輸入你的成績：80\n",
            "B\n"
          ]
        }
      ]
    },
    {
      "cell_type": "code",
      "source": [
        "score = float(input(\"請輸入你的成績：\"))\n",
        "if score >= 90:\n",
        "   print(\"A\")\n",
        "elif score >= 80 and score < 89:\n",
        "   print(\"B\")\n",
        "elif score >= 70 and score < 79:\n",
        "   print(\"C\")\n",
        "elif score >= 60 and score < 69:\n",
        "   print(\"D\")\n",
        "else:\n",
        "   print(\"E\")"
      ],
      "metadata": {
        "colab": {
          "base_uri": "https://localhost:8080/"
        },
        "id": "m8JOYujI6K8P",
        "outputId": "88a10192-22c7-48fe-b6dd-dd38445857f1"
      },
      "execution_count": 20,
      "outputs": [
        {
          "output_type": "stream",
          "name": "stdout",
          "text": [
            "請輸入你的成績：50\n",
            "E\n"
          ]
        }
      ]
    },
    {
      "cell_type": "code",
      "source": [
        "season = int(input(\"請輸入月份：\"))\n",
        "if(season > 1 and season <= 12):\n",
        "   if season >= 3 and season <= 5:\n",
        "      print(season,\"月份是春天！\")\n",
        "   elif season >= 6 and season <= 8:\n",
        "      print(season,\"月份是夏天！\")\n",
        "   elif season >= 9 and season <= 11:\n",
        "      print(season,\"月份是秋天！\")\n",
        "   elif season >= 12 and season <= 1:\n",
        "      print(season,\"月份是冬天！\")\n",
        "else:\n",
        "   print(\"月份不在範圍內！\")"
      ],
      "metadata": {
        "colab": {
          "base_uri": "https://localhost:8080/"
        },
        "id": "__uxZ6t5zSd3",
        "outputId": "9f4f144d-0d6d-4a23-b2e2-30d17e0e8e5c"
      },
      "execution_count": 14,
      "outputs": [
        {
          "output_type": "stream",
          "name": "stdout",
          "text": [
            "請輸入月份：13\n",
            "月份不在範圍內！\n"
          ]
        }
      ]
    },
    {
      "cell_type": "code",
      "source": [
        "profit = int(input(\"請輸入今年收入金額：\"))\n",
        "if(profit >= 300000):\n",
        "  if(profit >=2000000):\n",
        "    print(\"付款金額：\", profit *0.3, end = \"元\\n\")\n",
        "  elif(profit >= 1000000):\n",
        "    print(\"付款金額：\", profit *0.21, end = \"元\\n\")\n",
        "  elif(profit >= 600000):\n",
        "    print(\"付款金額：\", profit *0.13, end = \"元\\n\")\n",
        "  else:\n",
        "    print(\"付款金額：\", profit *0.06, end = \"元\\n\")\n",
        "else:\n",
        "  print(\"付款金額：\", profit *0, end = \"元\\n\")"
      ],
      "metadata": {
        "colab": {
          "base_uri": "https://localhost:8080/"
        },
        "id": "9o8Abcg04LdE",
        "outputId": "e2dfb481-de84-48ea-811d-69cc1a8c3f45"
      },
      "execution_count": 18,
      "outputs": [
        {
          "output_type": "stream",
          "name": "stdout",
          "text": [
            "請輸入今年收入金額：100000\n",
            "付款金額： 0元\n"
          ]
        }
      ]
    },
    {
      "cell_type": "code",
      "source": [
        "profit = int(input(\"請輸入今年收入金額：\"))\n",
        "if(profit >= 300000):\n",
        "  if(profit >=2000000):\n",
        "    print(\"付款金額：\", profit *0.3, end = \"元\\n\")\n",
        "  elif(profit >= 1000000):\n",
        "    print(\"付款金額：\", profit *0.21, end = \"元\\n\")\n",
        "  elif(profit >= 600000):\n",
        "    print(\"付款金額：\", profit *0.13, end = \"元\\n\")\n",
        "  else:\n",
        "    print(\"付款金額：\", profit *0.06, end = \"元\\n\")\n",
        "else:\n",
        "  print(\"付款金額：\", profit *0, end = \"元\\n\")"
      ],
      "metadata": {
        "colab": {
          "base_uri": "https://localhost:8080/"
        },
        "id": "a352aZu25xvf",
        "outputId": "3f00b594-121a-4a85-ceaf-86760b610dc0"
      },
      "execution_count": 19,
      "outputs": [
        {
          "output_type": "stream",
          "name": "stdout",
          "text": [
            "請輸入今年收入金額：2000000\n",
            "付款金額： 600000.0元\n"
          ]
        }
      ]
    }
  ]
}