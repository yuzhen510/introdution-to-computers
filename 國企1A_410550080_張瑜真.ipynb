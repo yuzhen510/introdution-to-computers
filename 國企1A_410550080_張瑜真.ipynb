{
  "nbformat": 4,
  "nbformat_minor": 0,
  "metadata": {
    "colab": {
      "name": "國企1A  410550080 張瑜真.ipynb",
      "provenance": [],
      "collapsed_sections": [],
      "authorship_tag": "ABX9TyMHwhy50jbWC1UECx7o5UcK",
      "include_colab_link": true
    },
    "kernelspec": {
      "name": "python3",
      "display_name": "Python 3"
    },
    "language_info": {
      "name": "python"
    }
  },
  "cells": [
    {
      "cell_type": "markdown",
      "metadata": {
        "id": "view-in-github",
        "colab_type": "text"
      },
      "source": [
        "<a href=\"https://colab.research.google.com/github/yuzhen510/introdution-to-computers/blob/main/%E5%9C%8B%E4%BC%811A_410550080_%E5%BC%B5%E7%91%9C%E7%9C%9F.ipynb\" target=\"_parent\"><img src=\"https://colab.research.google.com/assets/colab-badge.svg\" alt=\"Open In Colab\"/></a>"
      ]
    },
    {
      "cell_type": "markdown",
      "source": [
        "指派運算子"
      ],
      "metadata": {
        "id": "Iw2famhF1mjb"
      }
    },
    {
      "cell_type": "code",
      "execution_count": 5,
      "metadata": {
        "colab": {
          "base_uri": "https://localhost:8080/"
        },
        "id": "ZlYahv5g0QEB",
        "outputId": "aada969b-1db1-47e9-c649-ef51c0384dff"
      },
      "outputs": [
        {
          "output_type": "stream",
          "name": "stdout",
          "text": [
            "15\n"
          ]
        }
      ],
      "source": [
        "x = 10\n",
        "x += 5\n",
        "print(x)"
      ]
    },
    {
      "cell_type": "code",
      "source": [
        "x = 10\n",
        "x -= 5\n",
        "print(x)"
      ],
      "metadata": {
        "colab": {
          "base_uri": "https://localhost:8080/"
        },
        "id": "hO3u-V4A1s__",
        "outputId": "932025e4-9fc5-489d-9088-ccaec6dcc5b2"
      },
      "execution_count": 6,
      "outputs": [
        {
          "output_type": "stream",
          "name": "stdout",
          "text": [
            "5\n"
          ]
        }
      ]
    },
    {
      "cell_type": "code",
      "source": [
        "x = 10\n",
        "x**=5\n",
        "print(x)"
      ],
      "metadata": {
        "colab": {
          "base_uri": "https://localhost:8080/"
        },
        "id": "rECxj4I71xMk",
        "outputId": "72bc020d-3769-466e-9b0e-3edcff6eb9fc"
      },
      "execution_count": 7,
      "outputs": [
        {
          "output_type": "stream",
          "name": "stdout",
          "text": [
            "100000\n"
          ]
        }
      ]
    },
    {
      "cell_type": "markdown",
      "source": [
        "關係運算子"
      ],
      "metadata": {
        "id": "IjzRYx1Y14AL"
      }
    },
    {
      "cell_type": "code",
      "source": [
        "x = 10 > 8\n",
        "print(x)\n",
        "x = 10 >= 10\n",
        "print(x)\n",
        "x = 10 <= 10\n",
        "print(x)\n",
        "x = 10 == 10\n",
        "print(x)\n",
        "x = 10 != 20\n",
        "print(x)"
      ],
      "metadata": {
        "colab": {
          "base_uri": "https://localhost:8080/"
        },
        "id": "NE3XMatV2DBi",
        "outputId": "7f9b0728-73c3-42b7-ab07-0ac5f8640aa1"
      },
      "execution_count": 9,
      "outputs": [
        {
          "output_type": "stream",
          "name": "stdout",
          "text": [
            "True\n",
            "True\n",
            "True\n",
            "True\n",
            "True\n"
          ]
        }
      ]
    },
    {
      "cell_type": "code",
      "source": [
        "y = 10 > 20\n",
        "print(y)\n",
        "y = 10 >= 20\n",
        "print(y)\n",
        "y = 10 < 5\n",
        "print(y)\n",
        "y = 10 <= 5\n",
        "print(y)\n",
        "y = 10 == 5\n",
        "print(y)\n",
        "y = 10 != 10"
      ],
      "metadata": {
        "colab": {
          "base_uri": "https://localhost:8080/"
        },
        "id": "03o69HCI2v-o",
        "outputId": "d5b69132-5504-4b39-d19f-6d90d969cb50"
      },
      "execution_count": 10,
      "outputs": [
        {
          "output_type": "stream",
          "name": "stdout",
          "text": [
            "False\n",
            "False\n",
            "False\n",
            "False\n",
            "False\n"
          ]
        }
      ]
    },
    {
      "cell_type": "code",
      "source": [
        "z = 10 > 5\n",
        "print(z)\n",
        "z = 15 >= 25\n",
        "print(z)\n",
        "z = 20 <= 20\n",
        "print(z)\n",
        "z = 20 == 30 \n",
        "print(z)"
      ],
      "metadata": {
        "colab": {
          "base_uri": "https://localhost:8080/"
        },
        "id": "3X0SP3A23T6e",
        "outputId": "d0156cb6-d780-4db9-90c6-0b5af27e6504"
      },
      "execution_count": 11,
      "outputs": [
        {
          "output_type": "stream",
          "name": "stdout",
          "text": [
            "True\n",
            "False\n",
            "True\n",
            "False\n"
          ]
        }
      ]
    },
    {
      "cell_type": "markdown",
      "source": [
        "邏輯運算子"
      ],
      "metadata": {
        "id": "TvdrWnjN34B5"
      }
    },
    {
      "cell_type": "code",
      "source": [
        "x = (10>8)and(10>20)\n",
        "print(x)\n",
        "y = (10<8)and (10<20)\n",
        "print(y)\n",
        "z = (10<8)and (10>20)\n",
        "print(z)"
      ],
      "metadata": {
        "colab": {
          "base_uri": "https://localhost:8080/"
        },
        "id": "4bkDPfCF38wQ",
        "outputId": "d024c247-8e83-446c-8170-879390c38a24"
      },
      "execution_count": 13,
      "outputs": [
        {
          "output_type": "stream",
          "name": "stdout",
          "text": [
            "False\n",
            "False\n",
            "False\n"
          ]
        }
      ]
    },
    {
      "cell_type": "code",
      "source": [
        "x = (10>8)or(10>20)\n",
        "print(x)\n",
        "y = (10<8)or(10<20)\n",
        "print(y)\n",
        "z = (10>8)or(10>20)\n",
        "print(z)"
      ],
      "metadata": {
        "colab": {
          "base_uri": "https://localhost:8080/"
        },
        "id": "BlNSDagK4bsR",
        "outputId": "4cb923ad-ba51-4b34-a7a6-e35ca6dc1185"
      },
      "execution_count": 15,
      "outputs": [
        {
          "output_type": "stream",
          "name": "stdout",
          "text": [
            "True\n",
            "True\n",
            "True\n"
          ]
        }
      ]
    },
    {
      "cell_type": "code",
      "source": [
        "x = not(10<8)\n",
        "print(x)\n",
        "y = not(10>8)\n",
        "print(y)"
      ],
      "metadata": {
        "colab": {
          "base_uri": "https://localhost:8080/"
        },
        "id": "Ulr4aYxv4oTE",
        "outputId": "4ecf11c5-8da2-4dbb-8467-ea814ec1a1e5"
      },
      "execution_count": 16,
      "outputs": [
        {
          "output_type": "stream",
          "name": "stdout",
          "text": [
            "True\n",
            "False\n"
          ]
        }
      ]
    }
  ]
}