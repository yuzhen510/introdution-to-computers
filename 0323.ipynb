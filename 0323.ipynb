{
  "nbformat": 4,
  "nbformat_minor": 0,
  "metadata": {
    "colab": {
      "name": "0323.ipynb",
      "provenance": [],
      "authorship_tag": "ABX9TyMWFLvOdKGttfScVdWWpSCx",
      "include_colab_link": true
    },
    "kernelspec": {
      "name": "python3",
      "display_name": "Python 3"
    },
    "language_info": {
      "name": "python"
    }
  },
  "cells": [
    {
      "cell_type": "markdown",
      "metadata": {
        "id": "view-in-github",
        "colab_type": "text"
      },
      "source": [
        "<a href=\"https://colab.research.google.com/github/yuzhen510/introdution-to-computers/blob/main/0323.ipynb\" target=\"_parent\"><img src=\"https://colab.research.google.com/assets/colab-badge.svg\" alt=\"Open In Colab\"/></a>"
      ]
    },
    {
      "cell_type": "code",
      "execution_count": null,
      "metadata": {
        "colab": {
          "base_uri": "https://localhost:8080/"
        },
        "id": "N7HWH2iQ8d4b",
        "outputId": "1395c442-a400-4f5d-c589-9f4c625795b9"
      },
      "outputs": [
        {
          "output_type": "stream",
          "name": "stdout",
          "text": [
            "123\n"
          ]
        }
      ],
      "source": [
        "print('123')"
      ]
    },
    {
      "cell_type": "code",
      "source": [
        "12+3"
      ],
      "metadata": {
        "colab": {
          "base_uri": "https://localhost:8080/"
        },
        "id": "sizcPhpO88w3",
        "outputId": "25257115-0657-48eb-e0b7-385fa6f2932d"
      },
      "execution_count": null,
      "outputs": [
        {
          "output_type": "execute_result",
          "data": {
            "text/plain": [
              "15"
            ]
          },
          "metadata": {},
          "execution_count": 3
        }
      ]
    },
    {
      "cell_type": "code",
      "source": [
        "12-3"
      ],
      "metadata": {
        "colab": {
          "base_uri": "https://localhost:8080/"
        },
        "id": "6dh2Psdw9B-5",
        "outputId": "f01777af-3dd9-4fd0-b625-8a3c6d3bc8c1"
      },
      "execution_count": null,
      "outputs": [
        {
          "output_type": "execute_result",
          "data": {
            "text/plain": [
              "9"
            ]
          },
          "metadata": {},
          "execution_count": 4
        }
      ]
    },
    {
      "cell_type": "code",
      "source": [
        "12*3"
      ],
      "metadata": {
        "colab": {
          "base_uri": "https://localhost:8080/"
        },
        "id": "1VFx6wNn9D8Q",
        "outputId": "53828f93-450d-4302-d5b9-a774036637b2"
      },
      "execution_count": null,
      "outputs": [
        {
          "output_type": "execute_result",
          "data": {
            "text/plain": [
              "36"
            ]
          },
          "metadata": {},
          "execution_count": 5
        }
      ]
    },
    {
      "cell_type": "code",
      "source": [
        "32/5"
      ],
      "metadata": {
        "colab": {
          "base_uri": "https://localhost:8080/"
        },
        "id": "m_AKkL8s9I3S",
        "outputId": "25219b55-2bf0-4b7c-908b-af226f04baa9"
      },
      "execution_count": null,
      "outputs": [
        {
          "output_type": "execute_result",
          "data": {
            "text/plain": [
              "6.4"
            ]
          },
          "metadata": {},
          "execution_count": 6
        }
      ]
    },
    {
      "cell_type": "code",
      "source": [
        "32%5"
      ],
      "metadata": {
        "colab": {
          "base_uri": "https://localhost:8080/"
        },
        "id": "UXarbPdN9OsH",
        "outputId": "7cdd0182-efb8-452c-e073-28eabf6e3731"
      },
      "execution_count": null,
      "outputs": [
        {
          "output_type": "execute_result",
          "data": {
            "text/plain": [
              "2"
            ]
          },
          "metadata": {},
          "execution_count": 7
        }
      ]
    },
    {
      "cell_type": "code",
      "source": [
        "32//5"
      ],
      "metadata": {
        "colab": {
          "base_uri": "https://localhost:8080/"
        },
        "id": "TQBCMJeV9mA6",
        "outputId": "59d2f6a2-1139-4461-947a-53e7e79dbceb"
      },
      "execution_count": null,
      "outputs": [
        {
          "output_type": "execute_result",
          "data": {
            "text/plain": [
              "6"
            ]
          },
          "metadata": {},
          "execution_count": 1
        }
      ]
    },
    {
      "cell_type": "code",
      "source": [
        "7**2"
      ],
      "metadata": {
        "colab": {
          "base_uri": "https://localhost:8080/"
        },
        "id": "VBmbGRi59rGH",
        "outputId": "43391108-b5a7-41da-fbb7-48db27cfda09"
      },
      "execution_count": null,
      "outputs": [
        {
          "output_type": "execute_result",
          "data": {
            "text/plain": [
              "49"
            ]
          },
          "metadata": {},
          "execution_count": 9
        }
      ]
    },
    {
      "cell_type": "code",
      "source": [
        "7**4"
      ],
      "metadata": {
        "colab": {
          "base_uri": "https://localhost:8080/"
        },
        "id": "YjIzG5di9t7r",
        "outputId": "fc78fd1c-20ec-49d9-8b87-4a5112fa015c"
      },
      "execution_count": null,
      "outputs": [
        {
          "output_type": "execute_result",
          "data": {
            "text/plain": [
              "2401"
            ]
          },
          "metadata": {},
          "execution_count": 12
        }
      ]
    },
    {
      "cell_type": "code",
      "source": [
        "上底 = int(input('請輸入梯形上底長度:'))\n",
        "下底 = int(input('請輸入梯形下底長度:'))\n",
        "高= int(input('請輸入梯形的高度：'))\n",
        "面積 = (上底 + 下底) * 高 / 2"
      ],
      "metadata": {
        "colab": {
          "base_uri": "https://localhost:8080/"
        },
        "id": "KVmY7Seb97Vn",
        "outputId": "77572256-f203-48f3-e3f6-b9373ce08d2c"
      },
      "execution_count": null,
      "outputs": [
        {
          "name": "stdout",
          "output_type": "stream",
          "text": [
            "請輸入梯形上底長度:3\n",
            "請輸入梯形下底長度:4\n",
            "請輸入梯形的高度：3\n"
          ]
        }
      ]
    },
    {
      "cell_type": "markdown",
      "source": [
        "上底長度為：3 下底長度為：4 高度為：3 梯形面積為：10.5"
      ],
      "metadata": {
        "id": "ZRh3S35mAuwo"
      }
    },
    {
      "cell_type": "code",
      "source": [
        "上底 = int(input('請輸入梯形上底長度:'))\n",
        "下底 = int(input('請輸入梯形下底長度:'))\n",
        "高= int(input('請輸入梯形的高度：'))\n",
        "面積 = (上底 + 下底) * 高 / 2\n",
        "print('梯形上底長度為:',上底,'梯形下底長度為:',下底,'梯形高度為:',高,'梯形面積為:',面積)"
      ],
      "metadata": {
        "colab": {
          "base_uri": "https://localhost:8080/"
        },
        "id": "KchJoQMMBC0k",
        "outputId": "437871f3-99f7-4e84-aa6f-3aeb9cbec9c8"
      },
      "execution_count": 6,
      "outputs": [
        {
          "output_type": "stream",
          "name": "stdout",
          "text": [
            "請輸入梯形上底長度:3\n",
            "請輸入梯形下底長度:4\n",
            "請輸入梯形的高度：3\n",
            "梯形上底長度為: 3 梯形下底長度為: 4 梯形高度為: 3 梯形面積為: 10.5\n"
          ]
        }
      ]
    },
    {
      "cell_type": "code",
      "source": [
        "print('梯形上底長度為:%d,梯形下底長度為:%d,梯形高度為:%d,梯形面積為:%d'%(上底,下底,高,面積))"
      ],
      "metadata": {
        "id": "Q8x5C49WCkL-",
        "colab": {
          "base_uri": "https://localhost:8080/"
        },
        "outputId": "52827bbb-fb2a-4a80-ec48-20a86de20387"
      },
      "execution_count": 7,
      "outputs": [
        {
          "output_type": "stream",
          "name": "stdout",
          "text": [
            "梯形上底長度為:3,梯形下底長度為:4,梯形高度為:3,梯形面積為:10\n"
          ]
        }
      ]
    },
    {
      "cell_type": "code",
      "source": [
        "print('梯形上底長度為:%d,梯形下底長度為:%d,梯形高度為:%d,梯形面積為:%f'%(上底,下底,高,面積))"
      ],
      "metadata": {
        "id": "Grq2Pa0wVvqi",
        "colab": {
          "base_uri": "https://localhost:8080/"
        },
        "outputId": "9b02177a-b181-4c8f-f221-281c0df3e7e4"
      },
      "execution_count": 8,
      "outputs": [
        {
          "output_type": "stream",
          "name": "stdout",
          "text": [
            "梯形上底長度為:3,梯形下底長度為:4,梯形高度為:3,梯形面積為:10.500000\n"
          ]
        }
      ]
    },
    {
      "cell_type": "code",
      "source": [
        "print('梯形上底長度為:%d,梯形下底長度為:%d,梯形高度為:%d,梯形面積為:%0.1f'%(上底,下底,高,面積))"
      ],
      "metadata": {
        "colab": {
          "base_uri": "https://localhost:8080/"
        },
        "id": "wTbSq_4BhsIL",
        "outputId": "57a6ea27-96aa-4c54-b868-503f072b6394"
      },
      "execution_count": 10,
      "outputs": [
        {
          "output_type": "stream",
          "name": "stdout",
          "text": [
            "梯形上底長度為:3,梯形下底長度為:4,梯形高度為:3,梯形面積為:10.5\n"
          ]
        }
      ]
    },
    {
      "cell_type": "code",
      "source": [
        "a = 1.1\n",
        "b = 2.02\n",
        "c = 3.003"
      ],
      "metadata": {
        "id": "pcmnw0WZh3qI"
      },
      "execution_count": 14,
      "outputs": []
    },
    {
      "cell_type": "markdown",
      "source": [
        "a=1.1 ,b=2.02 ,c=3.003"
      ],
      "metadata": {
        "id": "PEiS5WpGiUGT"
      }
    },
    {
      "cell_type": "code",
      "source": [
        "print('a=%0.1f, b=%0.2f, c=%0.3f'%(a, b, c))"
      ],
      "metadata": {
        "colab": {
          "base_uri": "https://localhost:8080/"
        },
        "id": "dgVgHHa0iLp8",
        "outputId": "a55cfe3f-0339-433c-f9c7-e6f429d9a79f"
      },
      "execution_count": 15,
      "outputs": [
        {
          "output_type": "stream",
          "name": "stdout",
          "text": [
            "a=1.1, b=2.02, c=3.003\n"
          ]
        }
      ]
    },
    {
      "cell_type": "code",
      "source": [
        "height= float(input(\"請輸入您的身高(cm):\"))\n",
        "weight= float(input(\"請輸入您的體重(kg):\"))\n",
        "bmi= weight/(height/100)**2\n",
        "print('身高 %d 公分,體重 %d 公斤,BMI值為 %.2f' %(height,weight,bmi))"
      ],
      "metadata": {
        "colab": {
          "base_uri": "https://localhost:8080/"
        },
        "id": "Qk8WPbfwk8rB",
        "outputId": "4ff3ab27-be18-4eba-c46b-0b09bea93278"
      },
      "execution_count": 17,
      "outputs": [
        {
          "output_type": "stream",
          "name": "stdout",
          "text": [
            "請輸入您的身高(cm):180\n",
            "請輸入您的體重(kg):80\n",
            "身高 180 公分,體重 80 公斤,BMI值為 24.69\n"
          ]
        }
      ]
    },
    {
      "cell_type": "code",
      "source": [
        "height"
      ],
      "metadata": {
        "colab": {
          "base_uri": "https://localhost:8080/"
        },
        "id": "dDYY_M5cmIv3",
        "outputId": "5e177caf-da3c-415e-cf9b-16b70ca9689d"
      },
      "execution_count": 18,
      "outputs": [
        {
          "output_type": "execute_result",
          "data": {
            "text/plain": [
              "180.0"
            ]
          },
          "metadata": {},
          "execution_count": 18
        }
      ]
    },
    {
      "cell_type": "code",
      "source": [
        "1==2"
      ],
      "metadata": {
        "colab": {
          "base_uri": "https://localhost:8080/"
        },
        "id": "Lden_ww_mMfS",
        "outputId": "257d98b0-6d4d-4511-8011-a0247946e780"
      },
      "execution_count": 19,
      "outputs": [
        {
          "output_type": "execute_result",
          "data": {
            "text/plain": [
              "False"
            ]
          },
          "metadata": {},
          "execution_count": 19
        }
      ]
    },
    {
      "cell_type": "code",
      "source": [
        ""
      ],
      "metadata": {
        "id": "qOA7AtR4mQSx"
      },
      "execution_count": null,
      "outputs": []
    }
  ]
}